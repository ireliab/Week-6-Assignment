{
 "cells": [
  {
   "cell_type": "markdown",
   "id": "7b91ea75",
   "metadata": {},
   "source": [
    "# Data Scinence Tools and Ecosystem"
   ]
  },
  {
   "cell_type": "markdown",
   "id": "44bc8e45",
   "metadata": {},
   "source": [
    "This is a jupyter notebook file that conmcludes all my learnings in the Toolss for Data Science Course in Coursera provided by IBM."
   ]
  },
  {
   "cell_type": "markdown",
   "id": "4d61c92f",
   "metadata": {},
   "source": [
    "Some of the popular languages that Data Scientists use are:\n",
    "- Pyhthon\n",
    "- R\n",
    "- SQL\n",
    "- Julia\n",
    "- Java\n",
    "- JavaScript"
   ]
  },
  {
   "cell_type": "markdown",
   "id": "0a979659",
   "metadata": {},
   "source": [
    "All Data Science Libraries\n",
    "1. Pandas\n",
    "2. Numpy\n",
    "3. Keras\n",
    "4. Matplotlib\n",
    "5. Seaborn\n",
    "6. Pytorch"
   ]
  },
  {
   "cell_type": "markdown",
   "id": "10b6111c",
   "metadata": {},
   "source": [
    "|Data Science Tools|\n",
    "|---|\n",
    "|Juyter Notebook|\n",
    "|Tableau|\n",
    "|Julia|\n",
    "|R Studio|\n",
    "|Anaconda|\n"
   ]
  },
  {
   "cell_type": "markdown",
   "id": "a01ad127",
   "metadata": {},
   "source": [
    "Below are a few examples of evaluating arithmetic expressions in Python:\n",
    "- 5+3*2 = 11\n",
    "- 6%2 = 0\n",
    "- 7%2 = 1\n",
    "- 3**2 = 9\n"
   ]
  },
  {
   "cell_type": "code",
   "execution_count": 2,
   "id": "ffaba7f7",
   "metadata": {},
   "outputs": [
    {
     "data": {
      "text/plain": [
       "17"
      ]
     },
     "execution_count": 2,
     "metadata": {},
     "output_type": "execute_result"
    }
   ],
   "source": [
    "#This a simple arithmetic expression to mutiply then add integers\n",
    "(3*4)+5"
   ]
  },
  {
   "cell_type": "code",
   "execution_count": 3,
   "id": "1febfe95",
   "metadata": {},
   "outputs": [
    {
     "data": {
      "text/plain": [
       "3.3333333333333335"
      ]
     },
     "execution_count": 3,
     "metadata": {},
     "output_type": "execute_result"
    }
   ],
   "source": [
    "#This will convert 200 minutes to hours by diving by 60\n",
    "minute = 200\n",
    "hour = minute/60\n",
    "hour"
   ]
  },
  {
   "cell_type": "markdown",
   "id": "d8fe3ec9",
   "metadata": {},
   "source": [
    "**Objectives:**\n",
    "- List popular languages for Data Science\n",
    "- List expamples of arithemetic expressions in Python\n",
    "- List popular libraries for Data Science"
   ]
  },
  {
   "cell_type": "markdown",
   "id": "1bc854f8",
   "metadata": {},
   "source": [
    "## Author\n",
    "Anson Lai"
   ]
  },
  {
   "cell_type": "code",
   "execution_count": null,
   "id": "6ca3422c",
   "metadata": {},
   "outputs": [],
   "source": []
  }
 ],
 "metadata": {
  "kernelspec": {
   "display_name": "Python 3 (ipykernel)",
   "language": "python",
   "name": "python3"
  },
  "language_info": {
   "codemirror_mode": {
    "name": "ipython",
    "version": 3
   },
   "file_extension": ".py",
   "mimetype": "text/x-python",
   "name": "python",
   "nbconvert_exporter": "python",
   "pygments_lexer": "ipython3",
   "version": "3.11.3"
  }
 },
 "nbformat": 4,
 "nbformat_minor": 5
}
