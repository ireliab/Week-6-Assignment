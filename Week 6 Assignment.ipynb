{
 "cells": [
  {
   "cell_type": "markdown",
   "id": "7b91ea75",
   "metadata": {},
   "source": [
    "Week 6 Assignment"
   ]
  },
  {
   "cell_type": "markdown",
   "id": "44bc8e45",
   "metadata": {},
   "source": [
    "This is a jupyter notebook file that conmcludes all my learnings in the Toolss for Data Science Course in Coursera provided by IBM."
   ]
  },
  {
   "cell_type": "markdown",
   "id": "4d61c92f",
   "metadata": {},
   "source": [
    "All Data Science Languages:\n",
    "- Pyhthon\n",
    "- R\n",
    "- SQL\n",
    "- Julia\n",
    "- Java\n",
    "- JavaScript"
   ]
  },
  {
   "cell_type": "markdown",
   "id": "0a979659",
   "metadata": {},
   "source": [
    "All Data Science Libraries\n",
    "- Pandas\n",
    "- Numpy\n",
    "- Keras\n",
    "- Matplotlib\n",
    "- Seaborn\n",
    "- Pytorch\n",
    "- "
   ]
  },
  {
   "cell_type": "code",
   "execution_count": null,
   "id": "918ae64c",
   "metadata": {},
   "outputs": [],
   "source": []
  }
 ],
 "metadata": {
  "kernelspec": {
   "display_name": "Python 3 (ipykernel)",
   "language": "python",
   "name": "python3"
  },
  "language_info": {
   "codemirror_mode": {
    "name": "ipython",
    "version": 3
   },
   "file_extension": ".py",
   "mimetype": "text/x-python",
   "name": "python",
   "nbconvert_exporter": "python",
   "pygments_lexer": "ipython3",
   "version": "3.9.12"
  }
 },
 "nbformat": 4,
 "nbformat_minor": 5
}
